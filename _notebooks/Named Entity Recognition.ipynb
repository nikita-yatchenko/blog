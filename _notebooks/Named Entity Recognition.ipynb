{
 "cells": [
  {
   "cell_type": "markdown",
   "metadata": {},
   "source": [
    "# Named Entity Recognition using LSTM in Keras\n",
    "NER is a form of Natural Language Processing technique, where the end result is identifying various entities, like names, places, numbers from the raw text."
   ]
  },
  {
   "cell_type": "markdown",
   "metadata": {},
   "source": [
    "## Introduction\n",
    "Named Entity Recognition can be used as a standalone tool but also as a preprocessing toolfor later applications in *Machine Translation*, *Customer Feedback Hanlding*, and even *Text Summarization*.\n"
   ]
  },
  {
   "cell_type": "markdown",
   "metadata": {},
   "source": [
    "## 1. Import Modules"
   ]
  },
  {
   "cell_type": "code",
   "execution_count": 1,
   "metadata": {
    "scrolled": true
   },
   "outputs": [
    {
     "name": "stdout",
     "output_type": "stream",
     "text": [
      "Tensorflow version: 2.3.0\n",
      "GPU detected: []\n"
     ]
    }
   ],
   "source": [
    "%matplotlib inline\n",
    "import matplotlib.pyplot as plt\n",
    "import pandas as pd\n",
    "import numpy as np\n",
    "np.random.seed(0)\n",
    "plt.style.use(\"ggplot\")\n",
    "import tensorflow as tf\n",
    "print('Tensorflow version:', tf.__version__)\n",
    "print('GPU detected:', tf.config.list_physical_devices('GPU'))"
   ]
  },
  {
   "cell_type": "code",
   "execution_count": 2,
   "metadata": {},
   "outputs": [],
   "source": [
    "# ! pip install numpy"
   ]
  },
  {
   "cell_type": "code",
   "execution_count": 122,
   "metadata": {},
   "outputs": [],
   "source": [
    "# ! pip install --trusted-host=pypi.python.org --trusted-host=pypi.org --trusted-host=files.pythonhosted.org --upgrade livelossplot"
   ]
  },
  {
   "cell_type": "markdown",
   "metadata": {},
   "source": [
    "## 2. Explore NER Dataset\n",
    "This dataset contains of course sentences in English but they also have corresponding annotations for each word. The sentence in dataset are encoded in Latin 1.\n",
    "\n",
    "Essential info about entities:\n",
    "\n",
    "- geo = Geographical Entity\n",
    "- org = Organization\n",
    "- per = Person\n",
    "- gpe = Geopolitical Entity\n",
    "- tim = Time indicator\n",
    "- art = Artifact\n",
    "- eve = Event\n",
    "- nat = Natural Phenomenon\n",
    "\n",
    "Total Words Count = 1354149\n",
    "\n",
    "Target Data Column: “tag”"
   ]
  },
  {
   "cell_type": "code",
   "execution_count": 4,
   "metadata": {},
   "outputs": [
    {
     "data": {
      "text/html": [
       "<div>\n",
       "<style scoped>\n",
       "    .dataframe tbody tr th:only-of-type {\n",
       "        vertical-align: middle;\n",
       "    }\n",
       "\n",
       "    .dataframe tbody tr th {\n",
       "        vertical-align: top;\n",
       "    }\n",
       "\n",
       "    .dataframe thead th {\n",
       "        text-align: right;\n",
       "    }\n",
       "</style>\n",
       "<table border=\"1\" class=\"dataframe\">\n",
       "  <thead>\n",
       "    <tr style=\"text-align: right;\">\n",
       "      <th></th>\n",
       "      <th>Sentence #</th>\n",
       "      <th>Word</th>\n",
       "      <th>POS</th>\n",
       "      <th>Tag</th>\n",
       "    </tr>\n",
       "  </thead>\n",
       "  <tbody>\n",
       "    <tr>\n",
       "      <th>0</th>\n",
       "      <td>Sentence: 1</td>\n",
       "      <td>Thousands</td>\n",
       "      <td>NNS</td>\n",
       "      <td>O</td>\n",
       "    </tr>\n",
       "    <tr>\n",
       "      <th>1</th>\n",
       "      <td>Sentence: 1</td>\n",
       "      <td>of</td>\n",
       "      <td>IN</td>\n",
       "      <td>O</td>\n",
       "    </tr>\n",
       "    <tr>\n",
       "      <th>2</th>\n",
       "      <td>Sentence: 1</td>\n",
       "      <td>demonstrators</td>\n",
       "      <td>NNS</td>\n",
       "      <td>O</td>\n",
       "    </tr>\n",
       "    <tr>\n",
       "      <th>3</th>\n",
       "      <td>Sentence: 1</td>\n",
       "      <td>have</td>\n",
       "      <td>VBP</td>\n",
       "      <td>O</td>\n",
       "    </tr>\n",
       "    <tr>\n",
       "      <th>4</th>\n",
       "      <td>Sentence: 1</td>\n",
       "      <td>marched</td>\n",
       "      <td>VBN</td>\n",
       "      <td>O</td>\n",
       "    </tr>\n",
       "    <tr>\n",
       "      <th>5</th>\n",
       "      <td>Sentence: 1</td>\n",
       "      <td>through</td>\n",
       "      <td>IN</td>\n",
       "      <td>O</td>\n",
       "    </tr>\n",
       "    <tr>\n",
       "      <th>6</th>\n",
       "      <td>Sentence: 1</td>\n",
       "      <td>London</td>\n",
       "      <td>NNP</td>\n",
       "      <td>B-geo</td>\n",
       "    </tr>\n",
       "    <tr>\n",
       "      <th>7</th>\n",
       "      <td>Sentence: 1</td>\n",
       "      <td>to</td>\n",
       "      <td>TO</td>\n",
       "      <td>O</td>\n",
       "    </tr>\n",
       "    <tr>\n",
       "      <th>8</th>\n",
       "      <td>Sentence: 1</td>\n",
       "      <td>protest</td>\n",
       "      <td>VB</td>\n",
       "      <td>O</td>\n",
       "    </tr>\n",
       "    <tr>\n",
       "      <th>9</th>\n",
       "      <td>Sentence: 1</td>\n",
       "      <td>the</td>\n",
       "      <td>DT</td>\n",
       "      <td>O</td>\n",
       "    </tr>\n",
       "    <tr>\n",
       "      <th>10</th>\n",
       "      <td>Sentence: 1</td>\n",
       "      <td>war</td>\n",
       "      <td>NN</td>\n",
       "      <td>O</td>\n",
       "    </tr>\n",
       "    <tr>\n",
       "      <th>11</th>\n",
       "      <td>Sentence: 1</td>\n",
       "      <td>in</td>\n",
       "      <td>IN</td>\n",
       "      <td>O</td>\n",
       "    </tr>\n",
       "    <tr>\n",
       "      <th>12</th>\n",
       "      <td>Sentence: 1</td>\n",
       "      <td>Iraq</td>\n",
       "      <td>NNP</td>\n",
       "      <td>B-geo</td>\n",
       "    </tr>\n",
       "    <tr>\n",
       "      <th>13</th>\n",
       "      <td>Sentence: 1</td>\n",
       "      <td>and</td>\n",
       "      <td>CC</td>\n",
       "      <td>O</td>\n",
       "    </tr>\n",
       "    <tr>\n",
       "      <th>14</th>\n",
       "      <td>Sentence: 1</td>\n",
       "      <td>demand</td>\n",
       "      <td>VB</td>\n",
       "      <td>O</td>\n",
       "    </tr>\n",
       "    <tr>\n",
       "      <th>15</th>\n",
       "      <td>Sentence: 1</td>\n",
       "      <td>the</td>\n",
       "      <td>DT</td>\n",
       "      <td>O</td>\n",
       "    </tr>\n",
       "    <tr>\n",
       "      <th>16</th>\n",
       "      <td>Sentence: 1</td>\n",
       "      <td>withdrawal</td>\n",
       "      <td>NN</td>\n",
       "      <td>O</td>\n",
       "    </tr>\n",
       "    <tr>\n",
       "      <th>17</th>\n",
       "      <td>Sentence: 1</td>\n",
       "      <td>of</td>\n",
       "      <td>IN</td>\n",
       "      <td>O</td>\n",
       "    </tr>\n",
       "    <tr>\n",
       "      <th>18</th>\n",
       "      <td>Sentence: 1</td>\n",
       "      <td>British</td>\n",
       "      <td>JJ</td>\n",
       "      <td>B-gpe</td>\n",
       "    </tr>\n",
       "    <tr>\n",
       "      <th>19</th>\n",
       "      <td>Sentence: 1</td>\n",
       "      <td>troops</td>\n",
       "      <td>NNS</td>\n",
       "      <td>O</td>\n",
       "    </tr>\n",
       "    <tr>\n",
       "      <th>20</th>\n",
       "      <td>Sentence: 1</td>\n",
       "      <td>from</td>\n",
       "      <td>IN</td>\n",
       "      <td>O</td>\n",
       "    </tr>\n",
       "    <tr>\n",
       "      <th>21</th>\n",
       "      <td>Sentence: 1</td>\n",
       "      <td>that</td>\n",
       "      <td>DT</td>\n",
       "      <td>O</td>\n",
       "    </tr>\n",
       "    <tr>\n",
       "      <th>22</th>\n",
       "      <td>Sentence: 1</td>\n",
       "      <td>country</td>\n",
       "      <td>NN</td>\n",
       "      <td>O</td>\n",
       "    </tr>\n",
       "    <tr>\n",
       "      <th>23</th>\n",
       "      <td>Sentence: 1</td>\n",
       "      <td>.</td>\n",
       "      <td>.</td>\n",
       "      <td>O</td>\n",
       "    </tr>\n",
       "    <tr>\n",
       "      <th>24</th>\n",
       "      <td>Sentence: 2</td>\n",
       "      <td>Families</td>\n",
       "      <td>NNS</td>\n",
       "      <td>O</td>\n",
       "    </tr>\n",
       "  </tbody>\n",
       "</table>\n",
       "</div>"
      ],
      "text/plain": [
       "     Sentence #           Word  POS    Tag\n",
       "0   Sentence: 1      Thousands  NNS      O\n",
       "1   Sentence: 1             of   IN      O\n",
       "2   Sentence: 1  demonstrators  NNS      O\n",
       "3   Sentence: 1           have  VBP      O\n",
       "4   Sentence: 1        marched  VBN      O\n",
       "5   Sentence: 1        through   IN      O\n",
       "6   Sentence: 1         London  NNP  B-geo\n",
       "7   Sentence: 1             to   TO      O\n",
       "8   Sentence: 1        protest   VB      O\n",
       "9   Sentence: 1            the   DT      O\n",
       "10  Sentence: 1            war   NN      O\n",
       "11  Sentence: 1             in   IN      O\n",
       "12  Sentence: 1           Iraq  NNP  B-geo\n",
       "13  Sentence: 1            and   CC      O\n",
       "14  Sentence: 1         demand   VB      O\n",
       "15  Sentence: 1            the   DT      O\n",
       "16  Sentence: 1     withdrawal   NN      O\n",
       "17  Sentence: 1             of   IN      O\n",
       "18  Sentence: 1        British   JJ  B-gpe\n",
       "19  Sentence: 1         troops  NNS      O\n",
       "20  Sentence: 1           from   IN      O\n",
       "21  Sentence: 1           that   DT      O\n",
       "22  Sentence: 1        country   NN      O\n",
       "23  Sentence: 1              .    .      O\n",
       "24  Sentence: 2       Families  NNS      O"
      ]
     },
     "execution_count": 4,
     "metadata": {},
     "output_type": "execute_result"
    }
   ],
   "source": [
    "data = pd.read_csv(\"data/ner_dataset.csv\", encoding=\"latin1\")\n",
    "data = data.fillna(method=\"ffill\")\n",
    "data.head(25)"
   ]
  },
  {
   "cell_type": "markdown",
   "metadata": {},
   "source": [
    "The column of interest is the rightmost one - where we see the tag for each word. Let's check out the number of unique words in the corpus and number of unique tags:"
   ]
  },
  {
   "cell_type": "code",
   "execution_count": 5,
   "metadata": {},
   "outputs": [
    {
     "name": "stdout",
     "output_type": "stream",
     "text": [
      "Unique words in corpus: 35178\n",
      "Unique tags in corpus: 17\n"
     ]
    }
   ],
   "source": [
    "print(\"Unique words in corpus:\", data['Word'].nunique())\n",
    "print(\"Unique tags in corpus:\", data['Tag'].nunique())"
   ]
  },
  {
   "cell_type": "markdown",
   "metadata": {},
   "source": [
    "Create a list of unique words"
   ]
  },
  {
   "cell_type": "code",
   "execution_count": 6,
   "metadata": {},
   "outputs": [],
   "source": [
    "words = list(set(data.Word.values))\n",
    "words.append(\"ENDPAD\") # end of sentence ?\n",
    "num_words = len(words)"
   ]
  },
  {
   "cell_type": "code",
   "execution_count": 79,
   "metadata": {},
   "outputs": [
    {
     "data": {
      "text/plain": [
       "'plucked'"
      ]
     },
     "execution_count": 79,
     "metadata": {},
     "output_type": "execute_result"
    }
   ],
   "source": [
    "words[0]"
   ]
  },
  {
   "cell_type": "markdown",
   "metadata": {},
   "source": [
    "Similar process for target variable (tags)"
   ]
  },
  {
   "cell_type": "code",
   "execution_count": 7,
   "metadata": {},
   "outputs": [],
   "source": [
    "tags = list(set(data.Tag.values))\n",
    "num_tags = len(tags)"
   ]
  },
  {
   "cell_type": "markdown",
   "metadata": {},
   "source": [
    "Now, we are gonna modify our dataset so that we can easily split our dataset into our feature matrix and the target vector. So we want to create two pools (containing 3 values) for each sentence so that the 1st value in the two pools is the word and the 2nd value is the POS(Part of Speech) and 3rd is Tag i.e. class name."
   ]
  },
  {
   "cell_type": "markdown",
   "metadata": {},
   "source": [
    "## 3. Retrieve Sentences and Corresponding Tags\n",
    "Let's retreive sentences and their corresponding tags in a nice format in order to have a clear input and a clear output for our Recurrent Neural Network. \n",
    "\n",
    "First, we group given data by sentences. Then we apply lambda function that extracts Word, POS, and TAG for each grouped sentence to create a list of tuples with a structure: (Word to POS to TAG)."
   ]
  },
  {
   "cell_type": "code",
   "execution_count": 8,
   "metadata": {},
   "outputs": [],
   "source": [
    "class SentenceGetter():\n",
    "    def __init__(self, data):\n",
    "        self.n_sent = 1\n",
    "        self.data = data\n",
    "        self.empty = False\n",
    "        agg_func = lambda s : [(w, p, t) for w, p, t in zip(s['Word'].values.tolist(),\n",
    "                                                            s['POS'].values.tolist(),\n",
    "                                                            s['Tag'].values.tolist())]\n",
    "        self.grouped = self.data.groupby('Sentence #').apply(agg_func)\n",
    "        self.sentences = [s for s in self.grouped]\n",
    "    \n",
    "    def get_next(self):\n",
    "        try:\n",
    "            s = self.grouped[\"Sentence: {}\".format(self.n_sent)]\n",
    "            self.n_sent += 1\n",
    "            return s\n",
    "        except:\n",
    "            return None"
   ]
  },
  {
   "cell_type": "code",
   "execution_count": 9,
   "metadata": {},
   "outputs": [],
   "source": [
    "getter = SentenceGetter(data)\n",
    "sentences = getter.sentences"
   ]
  },
  {
   "cell_type": "markdown",
   "metadata": {},
   "source": [
    "Observe that the first sentence countains the exact information we wanted:"
   ]
  },
  {
   "cell_type": "code",
   "execution_count": 10,
   "metadata": {},
   "outputs": [
    {
     "data": {
      "text/plain": [
       "[('Thousands', 'NNS', 'O'),\n",
       " ('of', 'IN', 'O'),\n",
       " ('demonstrators', 'NNS', 'O'),\n",
       " ('have', 'VBP', 'O'),\n",
       " ('marched', 'VBN', 'O'),\n",
       " ('through', 'IN', 'O'),\n",
       " ('London', 'NNP', 'B-geo'),\n",
       " ('to', 'TO', 'O'),\n",
       " ('protest', 'VB', 'O'),\n",
       " ('the', 'DT', 'O'),\n",
       " ('war', 'NN', 'O'),\n",
       " ('in', 'IN', 'O'),\n",
       " ('Iraq', 'NNP', 'B-geo'),\n",
       " ('and', 'CC', 'O'),\n",
       " ('demand', 'VB', 'O'),\n",
       " ('the', 'DT', 'O'),\n",
       " ('withdrawal', 'NN', 'O'),\n",
       " ('of', 'IN', 'O'),\n",
       " ('British', 'JJ', 'B-gpe'),\n",
       " ('troops', 'NNS', 'O'),\n",
       " ('from', 'IN', 'O'),\n",
       " ('that', 'DT', 'O'),\n",
       " ('country', 'NN', 'O'),\n",
       " ('.', '.', 'O')]"
      ]
     },
     "execution_count": 10,
     "metadata": {},
     "output_type": "execute_result"
    }
   ],
   "source": [
    "sentences[0]"
   ]
  },
  {
   "cell_type": "markdown",
   "metadata": {},
   "source": [
    "## 4. Define Mapping Between Words and Numbers; Between Tags and Numbers\n",
    "To build an RNN we need to represent words and tags as vectors, or at least as numerical representations (values or indecies).\n"
   ]
  },
  {
   "cell_type": "code",
   "execution_count": 80,
   "metadata": {},
   "outputs": [],
   "source": [
    "word2idx = {w : i for i, w in enumerate(words)}\n",
    "tag2idx = {t : i for i, t in enumerate(tags)}"
   ]
  },
  {
   "cell_type": "code",
   "execution_count": 81,
   "metadata": {},
   "outputs": [
    {
     "data": {
      "text/html": [
       "<div>\n",
       "<style scoped>\n",
       "    .dataframe tbody tr th:only-of-type {\n",
       "        vertical-align: middle;\n",
       "    }\n",
       "\n",
       "    .dataframe tbody tr th {\n",
       "        vertical-align: top;\n",
       "    }\n",
       "\n",
       "    .dataframe thead th {\n",
       "        text-align: right;\n",
       "    }\n",
       "</style>\n",
       "<table border=\"1\" class=\"dataframe\">\n",
       "  <thead>\n",
       "    <tr style=\"text-align: right;\">\n",
       "      <th></th>\n",
       "      <th>0</th>\n",
       "    </tr>\n",
       "  </thead>\n",
       "  <tbody>\n",
       "    <tr>\n",
       "      <th>Socialists</th>\n",
       "      <td>35174</td>\n",
       "    </tr>\n",
       "    <tr>\n",
       "      <th>bolstering</th>\n",
       "      <td>35175</td>\n",
       "    </tr>\n",
       "    <tr>\n",
       "      <th>One-third</th>\n",
       "      <td>35176</td>\n",
       "    </tr>\n",
       "    <tr>\n",
       "      <th>author</th>\n",
       "      <td>35177</td>\n",
       "    </tr>\n",
       "    <tr>\n",
       "      <th>ENDPAD</th>\n",
       "      <td>35178</td>\n",
       "    </tr>\n",
       "  </tbody>\n",
       "</table>\n",
       "</div>"
      ],
      "text/plain": [
       "                0\n",
       "Socialists  35174\n",
       "bolstering  35175\n",
       "One-third   35176\n",
       "author      35177\n",
       "ENDPAD      35178"
      ]
     },
     "execution_count": 81,
     "metadata": {},
     "output_type": "execute_result"
    }
   ],
   "source": [
    "import pandas as pd\n",
    "pd.DataFrame.from_dict(word2idx, orient = 'index').tail()"
   ]
  },
  {
   "cell_type": "markdown",
   "metadata": {},
   "source": [
    "We can retrieve these words using their indices and looking them up in the dictionary and returing the corresponding keys."
   ]
  },
  {
   "cell_type": "markdown",
   "metadata": {},
   "source": [
    "## 5. Padding Input Sentences and Creating Train / Test Splits\n",
    "To build a Recurrent Neural Netowork we need to be able to use equal length sentences (technical necessity of Keras / Tensorflow packages). Thus we are goin to pad our sentences to a prescribed length. So what will this length be? Let us first look at the distribution of sentences' length - look at the histogram."
   ]
  },
  {
   "cell_type": "code",
   "execution_count": 82,
   "metadata": {},
   "outputs": [
    {
     "name": "stdout",
     "output_type": "stream",
     "text": [
      "Total number of sentences = 47959\n",
      "Mean of the distribution is 21.863987989741236\n",
      "IQ range (10% to 99%) of the distribution is [12. 43.]\n"
     ]
    },
    {
     "data": {
      "image/png": "[encoded data removed]",
      "text/plain": [
       "<Figure size 432x288 with 1 Axes>"
      ]
     },
     "metadata": {},
     "output_type": "display_data"
    }
   ],
   "source": [
    "print(\"Total number of sentences = \" + str(len(sentences)))\n",
    "_ = plt.hist([len(s) for s in sentences], bins = 50)\n",
    "print(\"Mean of the distribution is \" + str(sum([len(s) for s in sentences])/ len(sentences)))\n",
    "print(\"IQ range (10% to 99%) of the distribution is \" + str(np.percentile([len(s) for s in sentences], [10, 99])))"
   ]
  },
  {
   "cell_type": "markdown",
   "metadata": {},
   "source": [
    "Looking at the plot, considering the mean, the IQ ranges we can observe that maxing out at the length 50 should capture a vast moajority of sentences."
   ]
  },
  {
   "cell_type": "markdown",
   "metadata": {},
   "source": [
    "### 5.1 Padding\n",
    "X is going to be a numerical representation of our words for each sentence (we could potentially use a far better word to vector embedding). Iterate over each word to get a corresponding value for that word.\n",
    "\n",
    "To pad we will use pad_sequence function from the Tensorflow package, where we will specify the maxlen parameter to indicate maximum length each sentences will have and a value parameter - what we are padding with. "
   ]
  },
  {
   "cell_type": "code",
   "execution_count": 83,
   "metadata": {},
   "outputs": [],
   "source": [
    "from tensorflow.keras.preprocessing.sequence import pad_sequences\n",
    "\n",
    "max_len = 50\n",
    "\n",
    "X = [[word2idx[w[0]] for w in s] for s in sentences]\n",
    "X = pad_sequences(maxlen = max_len, sequences = X, padding = 'post', value=num_words-1)\n",
    "\n",
    "y = [[tag2idx[w[2]] for w in s] for s in sentences]\n",
    "y = pad_sequences(maxlen = max_len, sequences = y, padding = 'post', value=tag2idx['O'])"
   ]
  },
  {
   "cell_type": "markdown",
   "metadata": {},
   "source": [
    "Let's split the dataset into training and testing to test our final model's performance. Let's set the test size at 20%."
   ]
  },
  {
   "cell_type": "code",
   "execution_count": 84,
   "metadata": {},
   "outputs": [],
   "source": [
    "from sklearn.model_selection import train_test_split\n",
    "X_train, X_test, _train, y_test = train_test_split(X, y, test_size = 0.2, random_state = 1)"
   ]
  },
  {
   "cell_type": "markdown",
   "metadata": {},
   "source": [
    "## 6. Bidirectional LSTM Model\n",
    "\n",
    "In this section we are going to build an architecture for the predictive model. Some of the questions pertaining to the model's architecture:\n",
    "\n",
    "**Why use Bidirectional model?**\n",
    "- Bidirectional model allows us to make use not only of the past information but also of the future information. Meaning, if we are at node 5 (word 5), we not only use information about previous 4 words, but also take into account what relationships are present in words 6 - 50.\n",
    "\n",
    "**Why use LSTM and not just simple RNN?**\n",
    "- Regular RNN has a few major drawbacks: vanishing moments, and they are heavily influenced by close dependencies. LSTM addresses both problems by indroducing a \"memory cell\", which better stores information from the past and at each next node, LSTM considers whether to use more current information or weigh in more towards the past.\n",
    "- unites are ~ channels (think of various interpretations / features of that particular spot in a sequence)\n",
    "- so LSTM can either return (N observations, time-steps, features / channels)\n",
    "- return_sequences = True (many-to-many) has the effect of each LSTM unit returning a sequence of y_lenth outputs (aka time-steps != 1), one for each time step in the input data, instead of single output value if return_sequences = False (many-to-one).\n",
    "\n",
    "helpful links: (https://stackoverflow.com/questions/38714959/understanding-keras-lstms/50235563#50235563, https://datascience.stackexchange.com/questions/10836/the-difference-between-dense-and-timedistributeddense-of-keras, ind helpful: https://machinelearningmastery.com/timedistributed-layer-for-long-short-term-memory-networks-in-python/)\n",
    "\n",
    "**Why use Embedding layer?**\n",
    "- In the Embedding layer words are represented by dense vectors where a vector represents the projection of the word (input vector space) into a continuous vector space (output vector space).\n",
    "\n",
    "**Why use TimeDistributed layer?**\n",
    "- Applies something (we specify this to be a dense layer) to each time step vector individually. Distribute dense layer calculation across time! If we get 700 (h_1, h_2, ... h_700) LSTM vectors (1 - observation, time-step, 200 - channels) - with the dense layer we collapse it to (1, 1) - for the first observation at time-step 1\n",
    "\n",
    "**What is and why use SpatialDropout?**\n",
    "- Drops entire 1D feature maps instead of individual elements (used in convolution). So after embedding we have each word represented by a 1x50 vector. SpatialDropout will then take 10% of those channels and zero them out across ALL words. This is done to avoid co-adaptpation - forming a dependency group from one channel to another - a regularization method\n",
    "https://stackoverflow.com/questions/50393666/how-to-understand-spatialdropout1d-and-when-to-use-it"
   ]
  },
  {
   "cell_type": "code",
   "execution_count": 85,
   "metadata": {},
   "outputs": [],
   "source": [
    "from tensorflow.keras import Model, Input\n",
    "from tensorflow.keras.layers import LSTM, Embedding, Dense\n",
    "from tensorflow.keras.layers import TimeDistributed, SpatialDropout1D, Bidirectional"
   ]
  },
  {
   "cell_type": "markdown",
   "metadata": {},
   "source": [
    "Let us first define an input shape. In keras we use Input to tell our model what object size is going through its pipeline. In this case, we are going to have an object of shape max length of a sentence, currently set to 50. Comma is there to indicate that it is not an integer, but a shape of an array.\n",
    "\n",
    "Then we go on to the Embedding layer. This layer creates dense layers from sparse word vectors using word2vec or GloVe algorithms / methodologies. We can again think of this as creating new channels to represent word (not necessaryly, but each channel can tell us the word's plurality or singularity, masculine or feminine, has some connotation estimation as so on).\n",
    "\n",
    "In order to avoid overfitting by creating dependencies between those channels (let's say the model has picked up that combining channel 30 with channel 47 produces lower loss), we break those dependencies by introducing a SpatialDropout layer, which nulls out the entire channel.\n",
    "\n",
    "Next, we go on to creating Bidirection LSTM layer - LSTM's units - in the output # of channels - I think of it as different insights LSTM got from analyzing data, sort of like new features or hidden units in a regular NN. We must declare return_sequences = True, as we are interested in obtaining output vectors for every time step (many-to-many).\n",
    "\n",
    "Finally, we need to convert Bidirectional LSTM's channels into tags, thus we need to apply a simple Dense layer to EACH time step. That is why we use Time-distributed layer. It applies Dense layer (with the same weights) to ALL time steps to produce a singular output - Tag with the highest probability after softmax."
   ]
  },
  {
   "cell_type": "code",
   "execution_count": 102,
   "metadata": {},
   "outputs": [
    {
     "name": "stdout",
     "output_type": "stream",
     "text": [
      "Model: \"functional_9\"\n",
      "_________________________________________________________________\n",
      "Layer (type)                 Output Shape              Param #   \n",
      "=================================================================\n",
      "input_6 (InputLayer)         [(None, 50)]              0         \n",
      "_________________________________________________________________\n",
      "embedding_5 (Embedding)      (None, 50, 50)            1758950   \n",
      "_________________________________________________________________\n",
      "spatial_dropout1d_4 (Spatial (None, 50, 50)            0         \n",
      "_________________________________________________________________\n",
      "bidirectional_5 (Bidirection (None, 50, 200)           120800    \n",
      "_________________________________________________________________\n",
      "time_distributed_5 (TimeDist (None, 50, 17)            3417      \n",
      "=================================================================\n",
      "Total params: 1,883,167\n",
      "Trainable params: 1,883,167\n",
      "Non-trainable params: 0\n",
      "_________________________________________________________________\n"
     ]
    }
   ],
   "source": [
    "input_word = Input(shape=(max_len,)) # batch of max_len dimensional vectors\n",
    "\n",
    "# model\n",
    "model = Embedding(input_dim = num_words, output_dim = 50, input_length = max_len)(input_word)\n",
    "model = SpatialDropout1D(0.1)(model) # drops entire 1D feature maps instead of individual elements\n",
    "model = Bidirectional(LSTM(units = 100, return_sequences = True, recurrent_dropout = 0.1))(model) # units - dimensions of the output 1 word (after embedding 1 x 250) becomes (1 x 100) after LSTM\n",
    "out = TimeDistributed(Dense(num_tags, activation = 'softmax'))(model) # probability of each word being eah tag\n",
    "model = Model(input_word, out)\n",
    "model.summary()"
   ]
  },
  {
   "cell_type": "markdown",
   "metadata": {},
   "source": [
    "The model produces a total of 1,883,167 parameters. How exactly are they calculated? Let's find out:"
   ]
  },
  {
   "cell_type": "code",
   "execution_count": 116,
   "metadata": {},
   "outputs": [
    {
     "name": "stdout",
     "output_type": "stream",
     "text": [
      "Number of LSTM parameters:  60400\n",
      "Number of Bidirection LSTM parameters:  120800\n",
      "Number of Time-Distributed Dense parameters:  3417\n"
     ]
    }
   ],
   "source": [
    "# lstm has a set of 3 gates: forget, update, and output, and a separate weight to calculate the cell state c. For each \n",
    "# gate and cell state calculation we have a set of 2 matricies: matrix that deals with a hidden unit at time step t-1 and matrix that\n",
    "# deals with an input x_t. So we have 4 sets of parameters and each has 2 matricies:\n",
    "lstm_num_params = 4 * (100 * 50 + 100 * 100 + 100)\n",
    "print('Number of LSTM parameters: ', lstm_num_params)\n",
    "\n",
    "# Now deal with the bidirectional part. We are going to end up having 2 hidden unit from 2 directions: forward and backward. \n",
    "print('Number of Bidirection LSTM parameters: ', 2 * lstm_num_params)\n",
    "\n",
    "#  time distributed / dense layer: output_size * (input_size + 1) - because of the bias + 1\n",
    "dense_num_params = 2 * 17 * (100) + 17 # maybe same bias unit is applied to both forward and backward\n",
    "print('Number of Time-Distributed Dense parameters: ', dense_num_params)"
   ]
  },
  {
   "cell_type": "markdown",
   "metadata": {},
   "source": [
    "Next, let's compile a model. We are using the most popular optimizer algorithm - Adam, out loss function is sparse categorical cross entropy (classes are mutually exclusive), and out metric is accuracy"
   ]
  },
  {
   "cell_type": "code",
   "execution_count": 117,
   "metadata": {},
   "outputs": [],
   "source": [
    "model.compile(optimizer = 'adam', loss = 'sparse_categorical_crossentropy', metrics=[\"accuracy\"]) # what is sparse_categorical_crossentropy"
   ]
  },
  {
   "cell_type": "markdown",
   "metadata": {},
   "source": [
    "Time to train and test our model. By importing ModelCheckpoint we can save the best model, monitor our calidation loss. Early Stopping allows us to early stop when we do not continue to improve on our model after 2 batches. Finally, PlotLossesCallback is a wayt to visualize our loss."
   ]
  },
  {
   "cell_type": "code",
   "execution_count": 118,
   "metadata": {},
   "outputs": [],
   "source": [
    "from tensorflow.keras.callbacks import ModelCheckpoint, EarlyStopping\n",
    "from livelossplot.inputs.tf_keras import PlotLossesCallback"
   ]
  },
  {
   "cell_type": "code",
   "execution_count": 119,
   "metadata": {},
   "outputs": [
    {
     "data": {
      "image/png": "[encoded data removed]",
      "text/plain": [
       "<Figure size 864x576 with 2 Axes>"
      ]
     },
     "metadata": {},
     "output_type": "display_data"
    },
    {
     "name": "stdout",
     "output_type": "stream",
     "text": [
      "accuracy\n",
      "\ttraining         \t (min:    0.958, max:    0.989, cur:    0.989)\n",
      "\tvalidation       \t (min:    0.981, max:    0.985, cur:    0.985)\n",
      "Loss\n",
      "\ttraining         \t (min:    0.037, max:    0.181, cur:    0.037)\n",
      "\tvalidation       \t (min:    0.049, max:    0.068, cur:    0.049)\n",
      "\n",
      "Epoch 00003: val_loss improved from 0.05168 to 0.04879, saving model to model_weights.h5\n",
      "\b\b\b\b\b\b\b\b\b\b\b\b\b\b\b\b\b\b\b\b\b\b\b\b\b\b\b\b\b\b\b\b\b\b\b\b\b\b\b\b\b\b\b\b\b\b\b\b\b\b\b\b\b\b\b\b\b\b\b\b\b\b\b\b\b\b\b\b\b\b\b\b\b\b\b\b\b\b\b\b\b\b\b\b\b\b\r",
      "1199/1199 [==============================] - 133s 111ms/step - loss: 0.0374 - accuracy: 0.9885 - val_loss: 0.0488 - val_accuracy: 0.9853\n"
     ]
    }
   ],
   "source": [
    "chkpt = ModelCheckpoint(\"model_weights.h5\", monitor='val_loss',verbose=1, save_best_only=True, save_weights_only=True, mode='min')\n",
    "early_stopping = EarlyStopping(monitor='val_accuracy', min_delta=0, patience=2, verbose=0, mode='max', baseline=None, restore_best_weights=False)\n",
    "my_callbacks = [PlotLossesCallback(), chkpt, early_stopping]\n",
    "\n",
    "history = model.fit(\n",
    "    x=X_train,\n",
    "    y=y_train,\n",
    "    validation_data=(X_test,y_test),\n",
    "    batch_size=32, \n",
    "    epochs=3,\n",
    "    verbose=1,\n",
    "    callbacks = my_callbacks\n",
    ")"
   ]
  },
  {
   "cell_type": "code",
   "execution_count": 120,
   "metadata": {},
   "outputs": [
    {
     "name": "stdout",
     "output_type": "stream",
     "text": [
      "300/300 [==============================] - 4s 14ms/step - loss: 0.0488 - accuracy: 0.9853\n"
     ]
    },
    {
     "data": {
      "text/plain": [
       "[0.04879415035247803, 0.9853190183639526]"
      ]
     },
     "execution_count": 120,
     "metadata": {},
     "output_type": "execute_result"
    }
   ],
   "source": [
    "model.evaluate(X_test, y_test)"
   ]
  },
  {
   "cell_type": "code",
   "execution_count": 121,
   "metadata": {},
   "outputs": [
    {
     "name": "stdout",
     "output_type": "stream",
     "text": [
      "Word           True \t Pred\n",
      "\n",
      "------------------------------\n",
      "She            O\tO\n",
      "remains        O\tO\n",
      "hospitalized   O\tO\n",
      ".              O\tO\n",
      "ENDPAD         O\tO\n",
      "ENDPAD         O\tO\n",
      "ENDPAD         O\tO\n",
      "ENDPAD         O\tO\n",
      "ENDPAD         O\tO\n",
      "ENDPAD         O\tO\n",
      "ENDPAD         O\tO\n",
      "ENDPAD         O\tO\n",
      "ENDPAD         O\tO\n",
      "ENDPAD         O\tO\n",
      "ENDPAD         O\tO\n",
      "ENDPAD         O\tO\n",
      "ENDPAD         O\tO\n",
      "ENDPAD         O\tO\n",
      "ENDPAD         O\tO\n",
      "ENDPAD         O\tO\n",
      "ENDPAD         O\tO\n",
      "ENDPAD         O\tO\n",
      "ENDPAD         O\tO\n",
      "ENDPAD         O\tO\n",
      "ENDPAD         O\tO\n",
      "ENDPAD         O\tO\n",
      "ENDPAD         O\tO\n",
      "ENDPAD         O\tO\n",
      "ENDPAD         O\tO\n",
      "ENDPAD         O\tO\n",
      "ENDPAD         O\tO\n",
      "ENDPAD         O\tO\n",
      "ENDPAD         O\tO\n",
      "ENDPAD         O\tO\n",
      "ENDPAD         O\tO\n",
      "ENDPAD         O\tO\n",
      "ENDPAD         O\tO\n",
      "ENDPAD         O\tO\n",
      "ENDPAD         O\tO\n",
      "ENDPAD         O\tO\n",
      "ENDPAD         O\tO\n",
      "ENDPAD         O\tO\n",
      "ENDPAD         O\tO\n",
      "ENDPAD         O\tO\n",
      "ENDPAD         O\tO\n",
      "ENDPAD         O\tO\n",
      "ENDPAD         O\tO\n",
      "ENDPAD         O\tO\n",
      "ENDPAD         O\tO\n",
      "ENDPAD         O\tO\n"
     ]
    }
   ],
   "source": [
    "i = np.random.randint(0, X_test.shape[0]) # 659\n",
    "p = model.predict(np.array([X_test[i]]))\n",
    "p = np.argmax(p, axis=-1)\n",
    "y_true = y_test[i]\n",
    "print(\"{:15}{:5}\\t {}\\n\".format(\"Word\", \"True\", \"Pred\"))\n",
    "print(\"-\" *30)\n",
    "for w, true, pred in zip(X_test[i], y_true, p[0]):\n",
    "    print(\"{:15}{}\\t{}\".format(words[w], tags[true], tags[pred]))"
   ]
  },
  {
   "cell_type": "code",
   "execution_count": null,
   "metadata": {},
   "outputs": [],
   "source": []
  }
 ],
 "metadata": {
  "kernelspec": {
   "display_name": "Python 3",
   "language": "python",
   "name": "python3"
  },
  "language_info": {
   "codemirror_mode": {
    "name": "ipython",
    "version": 3
   },
   "file_extension": ".py",
   "mimetype": "text/x-python",
   "name": "python",
   "nbconvert_exporter": "python",
   "pygments_lexer": "ipython3",
   "version": "3.8.5"
  }
 },
 "nbformat": 4,
 "nbformat_minor": 4
}
